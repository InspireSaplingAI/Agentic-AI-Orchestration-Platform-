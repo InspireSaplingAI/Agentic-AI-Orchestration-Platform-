{
 "cells": [
  {
   "cell_type": "markdown",
   "id": "06778a2a",
   "metadata": {},
   "source": [
    "Session 3: Feedback Loops & Multi-Agent Systems.\n",
    "In Session 2, you focused on LangroidAgent and CrewAgentWrapper.\n",
    "In Session 3, we use CrewAI’s orchestration engine + Agno’s fault-tolerant pipeline to coordinate multi-agent collaboration."
   ]
  },
  {
   "cell_type": "code",
   "execution_count": null,
   "id": "9db517cc",
   "metadata": {},
   "outputs": [],
   "source": [
    "%pip install agno\n",
    "# Introduction to agno\n",
    "## reference https://www.agno.com/, https://github.com/agno-agi/agno"
   ]
  },
  {
   "cell_type": "code",
   "execution_count": null,
   "id": "3100ed9e",
   "metadata": {},
   "outputs": [],
   "source": [
    "# Cell 1 — Imports\n",
    "\n",
    "import os, time, asyncio, json, logging\n",
    "from typing import List, Dict, Any\n",
    "\n",
    "from crewai import Agent as CrewAgent, Crew, Task as CrewTask\n",
    "from agno import Pipeline, RetryPolicy, Task as AgnoTask, PipelineLogger\n",
    "\n",
    "from src.agents.orchestration import crew_agents, Orchestrator\n",
    "from src.utils.logging_utils import setup_logging\n",
    "\n",
    "# Initialize structured logger\n",
    "log = setup_logging(\"session3.log\", level=logging.INFO, logger_name=\"Session3\")\n",
    "log.info(\"Multi-agent session 3 starting...\")\n"
   ]
  },
  {
   "cell_type": "code",
   "execution_count": null,
   "id": "4a9580f9",
   "metadata": {},
   "outputs": [],
   "source": [
    "# Cell 2 — Initialize CrewAI multi-agent system\n",
    "\n",
    "# Initialize orchestrator with pre-defined crew_agents\n",
    "orchestrator = Orchestrator(crew_agents=crew_agents)\n",
    "\n",
    "# Inspect agents\n",
    "for role, agent in crew_agents.items():\n",
    "    print(f\"{role}: name={agent.name}, role={agent.role}\")\n",
    "\n",
    "# 📁 Edit in:\n",
    "# src/agents/agent_setup.py\n",
    "# TODO1 (Session 3) :  \n",
    "# - Initialize crew_agents (retrieval, summarizer, writer)\n",
    "# - Initialize Orchestrator with crew_agents\n",
    "# - Return orchestrator object\n"
   ]
  },
  {
   "cell_type": "code",
   "execution_count": null,
   "id": "c9cbf891",
   "metadata": {},
   "outputs": [],
   "source": [
    "# Cell 3 — Define workflow pipeline (retrieval -> summarizer -> writer)\n",
    "\n",
    "workflow_definition = [\n",
    "    {\"step\": \"retrieval\", \"desc\": \"Retrieve related documents\"},\n",
    "    {\"step\": \"summarizer\", \"desc\": \"Summarize retrieved content\"},\n",
    "    {\"step\": \"writer\", \"desc\": \"Write summary report to file\"}\n",
    "]\n",
    "\n",
    "print(json.dumps(workflow_definition, indent=2))\n"
   ]
  },
  {
   "cell_type": "code",
   "execution_count": null,
   "id": "05400d63",
   "metadata": {},
   "outputs": [],
   "source": [
    "# Cell 4 — Create feedback/retry mechanism\n",
    "\n",
    "retry_policy = RetryPolicy(max_attempts=2, backoff_factor=1.5)\n",
    "\n",
    "async def feedback_condition(task_result):\n",
    "    \"\"\"Check if a task failed and needs retry.\"\"\"\n",
    "    if not task_result or \"failed\" in str(task_result).lower():\n",
    "        log.warning(\"Feedback: Detected failure -> triggering retry\")\n",
    "        return True\n",
    "    return False\n",
    "\n",
    "# 📁 Edit in:\n",
    "# src/agents/fault_tolerance.py\n",
    "# TODO2 (Session 3): \n",
    "# - Implement `retry_task_with_feedback()`\n",
    "# - Wrap any agent.handle coroutine\n",
    "# - Use RetryPolicy to retry on failure\n"
   ]
  },
  {
   "cell_type": "code",
   "execution_count": null,
   "id": "ae82d6c2",
   "metadata": {},
   "outputs": [],
   "source": [
    "# Cell 5 — Execute workflow with feedback\n",
    "\n",
    "user_goal = \"Summarize all available order and payment policies into a single report.\"\n",
    "\n",
    "# Orchestrator will run the workflow with feedback & retries\n",
    "results = await orchestrator.run_plan_with_crew(\n",
    "    plan=workflow_definition\n",
    ")\n",
    "\n",
    "print(json.dumps(results, indent=2))\n",
    "\n",
    "# 📁 Edit in:\n",
    "# src/agents/orchestration.py\n",
    "# TODO3 (Session 3): Lines ~80–140\n",
    "# - Implement `run_plan_with_crew()`\n",
    "# - Call corresponding CrewAgentWrapper for each role\n",
    "# - Integrate retry_task_with_feedback() for fault tolerance\n",
    "# - Aggregate results\n"
   ]
  },
  {
   "cell_type": "code",
   "execution_count": null,
   "id": "f635e82f",
   "metadata": {},
   "outputs": [],
   "source": [
    "# Cell 6 — Structured logging for monitoring\n",
    "\n",
    "pipeline_logger = PipelineLogger(log_dir=\"./logs\", json_format=True)\n",
    "\n",
    "pipeline = Pipeline(\n",
    "    tasks=[\n",
    "        AgnoTask(name=\"Retrieval\", func=lambda: print(\"retrieval\")),\n",
    "        AgnoTask(name=\"Summarizer\", func=lambda: print(\"summarize\")),\n",
    "        AgnoTask(name=\"Writer\", func=lambda: print(\"write\"))\n",
    "    ],\n",
    "    retry_policy=retry_policy,\n",
    "    logger=pipeline_logger,\n",
    ")\n",
    "\n",
    "await pipeline.run()\n"
   ]
  },
  {
   "cell_type": "markdown",
   "id": "1d34b2d8",
   "metadata": {},
   "source": [
    "Output:\n",
    "\n",
    "./logs/session3.log\n",
    "\n",
    "session3_results.json\n",
    "\n",
    "Multi-agent workflow reports for feedback vs no-feedback experiments"
   ]
  }
 ],
 "metadata": {
  "kernelspec": {
   "display_name": "Python 3",
   "language": "python",
   "name": "python3"
  },
  "language_info": {
   "name": "python",
   "version": "3.12.6"
  }
 },
 "nbformat": 4,
 "nbformat_minor": 5
}
